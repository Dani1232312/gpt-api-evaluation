{
 "cells": [
  {
   "attachments": {},
   "cell_type": "markdown",
   "metadata": {},
   "source": [
    "# BERT Training and Evaluation\n",
    "Keep in mind that this code only works with CUDA."
   ]
  },
  {
   "attachments": {},
   "cell_type": "markdown",
   "metadata": {},
   "source": [
    "# set up"
   ]
  },
  {
   "cell_type": "code",
   "execution_count": 1,
   "metadata": {},
   "outputs": [],
   "source": [
    "#!pip install pandas\n",
    "# !pip install simpletransformers\n",
    "#!pip install -U scikit-learn scipy matplotlib\n",
    "# !pip install torchvision \n",
    "# !pip install setuptools==59.5.0\n",
    "# !pip install ipywidgets\n",
    "# !pip install --upgrade torch torchvision"
   ]
  },
  {
   "cell_type": "code",
   "execution_count": 1,
   "metadata": {},
   "outputs": [
    {
     "data": {
      "text/plain": [
       "False"
      ]
     },
     "execution_count": 1,
     "metadata": {},
     "output_type": "execute_result"
    }
   ],
   "source": [
    "import torch\n",
    "torch.cuda.is_available()"
   ]
  },
  {
   "cell_type": "code",
   "execution_count": 1,
   "metadata": {},
   "outputs": [
    {
     "ename": "",
     "evalue": "",
     "output_type": "error",
     "traceback": [
      "\u001b[1;31mCannot execute code, session has been disposed. Please try restarting the Kernel."
     ]
    },
    {
     "ename": "",
     "evalue": "",
     "output_type": "error",
     "traceback": [
      "\u001b[1;31mThe Kernel crashed while executing code in the the current cell or a previous cell. Please review the code in the cell(s) to identify a possible cause of the failure. Click <a href='https://aka.ms/vscodeJupyterKernelCrash'>here</a> for more info. View Jupyter <a href='command:jupyter.viewOutput'>log</a> for further details."
     ]
    }
   ],
   "source": [
    "import pandas as pd\n",
    "from sklearn.model_selection import train_test_split\n",
    "from simpletransformers.classification import ClassificationModel\n",
    "import os\n",
    "import gc\n",
    "import torch\n",
    "import matplotlib.pyplot as plt\n",
    "import numpy as np\n",
    "from sklearn.metrics import f1_score, accuracy_score\n",
    "import warnings\n",
    "\n",
    "warnings.filterwarnings('ignore')\n",
    "\n",
    "def f1_multiclass(labels, preds):\n",
    "    return f1_score(labels, preds, average='micro')\n",
    "\n",
    "os.environ[\"TOKENIZERS_PARALLELISM\"] = \"false\"\n",
    "\n",
    "# Read the data from CSV file\n",
    "data = pd.read_csv('data.csv')\n",
    "\n",
    "# Select the relevant columns\n",
    "datacheck = data[['Author Keywords', 'Decision']]\n",
    "\n",
    "# Define the label list\n",
    "class_list = ['Included', 'Rejected', 'Not Sure']\n",
    "\n",
    "# Convert labels to numerical values\n",
    "label_map = {label: i for i, label in enumerate(class_list)}\n",
    "datacheck['label'] = datacheck['Decision'].map(label_map)\n",
    "\n",
    "dataframes = []\n",
    "\n",
    "# Splitting the datacheck dataframe into 10 dataframes of 500 entries each\n",
    "total_entries = len(datacheck)\n",
    "num_dataframes = 11\n",
    "entries_per_dataframe = 500\n",
    "\n",
    "use_cuda = torch.cuda.is_available()\n",
    "\n",
    "for i in range(num_dataframes):\n",
    "    start_index = i * entries_per_dataframe\n",
    "    end_index = (i + 1) * entries_per_dataframe\n",
    "\n",
    "    # Adjusting the end_index for the last dataframe to handle any remaining entries\n",
    "    if i == num_dataframes - 1:\n",
    "        end_index = total_entries\n",
    "\n",
    "    df_slice = datacheck.iloc[start_index:end_index, :]\n",
    "    dataframes.append(df_slice)\n",
    "\n",
    "    # Create a ClassificationModel for each feature column\n",
    "model = ClassificationModel(\n",
    "    \"bert\", \"bert-base-uncased\",\n",
    "    num_labels=len(class_list),\n",
    "    use_cuda=use_cuda,\n",
    "    args={\n",
    "        \"reprocess_input_data\": True,\n",
    "        \"overwrite_output_dir\": True,\n",
    "        \"fp16\": use_cuda,\n",
    "        \"num_train_epochs\": 1,  # Increase the number of epochs for demonstration purposes\n",
    "        \"use_multiprocessing\": False,  # Set this to False if you face issues with multiprocessing\n",
    "        \"learning_rate\": 1e-5,  # Adjust the learning rate if needed\n",
    "    },\n",
    ")\n",
    "    \n",
    "models = {}\n",
    "evaluation_scores = {}\n",
    "for column in ['Author Keywords']:\n",
    "\n",
    "\n",
    "    \n",
    "    # Train the model using the specific feature column\n",
    "    mcc_scores = []\n",
    "    f1_scores = []\n",
    "    acc_scores = []\n",
    "    eval_losses = []\n",
    "    \n",
    "    for epoch in range(10):\n",
    "            # Take a smaller sample of the data (500 entries in this example)\n",
    "        datacheck_sampled = datacheck.sample(n=500, random_state=42)\n",
    "#         print(datacheck_sampled)\n",
    "        # Split the data into training and testing sets\n",
    "        train_df, test_df = train_test_split(datacheck_sampled, test_size=0.3, shuffle=True, random_state=42)\n",
    "    \n",
    "        model.train_model(train_df[[column, 'label']])\n",
    "        \n",
    "        # Evaluate the model at each epoch\n",
    "        column_test_df = test_df[[column, 'label']]\n",
    "        result, model_outputs, wrong_predictions = model.eval_model(column_test_df, f1=f1_multiclass, acc=accuracy_score)\n",
    "        mcc_scores.append(result['mcc'])\n",
    "        f1_scores.append(result['f1'])\n",
    "        acc_scores.append(result['acc'])\n",
    "        eval_losses.append(result['eval_loss'])\n",
    "        \n",
    "        print(f\"Results for {column} - Epoch {epoch + 1}:\")\n",
    "        print(result)\n",
    "        print()\n",
    "        \n",
    "        # Plot the evaluation scores for each epoch\n",
    "        epochs = list(range(1, epoch + 2))\n",
    "        x_ticks = np.arange(1, epoch + 2)\n",
    "\n",
    "        plt.figure(figsize=(12, 6))\n",
    "        plt.subplot(2, 2, 1)\n",
    "        plt.bar(x_ticks, mcc_scores, align='center')\n",
    "        plt.xticks(x_ticks, epochs)\n",
    "        plt.xlabel('Batch')\n",
    "        plt.ylabel('MCC')\n",
    "        plt.title(f\"MCC Scores for {column}\")\n",
    "\n",
    "        plt.subplot(2, 2, 2)\n",
    "        plt.bar(x_ticks, f1_scores, align='center')\n",
    "        plt.xticks(x_ticks, epochs)\n",
    "        plt.xlabel('Batch')\n",
    "        plt.ylabel('F1')\n",
    "        plt.title(f\"F1 Scores for {column}\")\n",
    "\n",
    "        plt.subplot(2, 2, 3)\n",
    "        plt.bar(x_ticks, acc_scores, align='center')\n",
    "        plt.xticks(x_ticks, epochs)\n",
    "        plt.xlabel('Batch')\n",
    "        plt.ylabel('Accuracy')\n",
    "        plt.title(f\"Accuracy Scores for {column}\")\n",
    "\n",
    "        plt.subplot(2, 2, 4)\n",
    "        plt.plot(x_ticks, eval_losses, marker='o')\n",
    "        plt.xticks(x_ticks, epochs)\n",
    "        plt.xlabel('Batch')\n",
    "        plt.ylabel('Eval Loss')\n",
    "        plt.title(f\"Evaluation Loss for {column}\")\n",
    "\n",
    "        plt.tight_layout()\n",
    "        plt.show()\n",
    "    \n",
    "    # Store the trained model and evaluation scores\n",
    "    models[column] = model\n",
    "    evaluation_scores[column] = {\n",
    "        'mcc': mcc_scores,\n",
    "        'f1': f1_scores,\n",
    "        'acc': acc_scores,\n",
    "        'eval_loss': eval_losses\n",
    "    }\n",
    "    \n",
    "    del model\n",
    "    torch.cuda.empty_cache()\n",
    "    gc.collect()\n"
   ]
  }
 ],
 "metadata": {
  "kernelspec": {
   "display_name": "base",
   "language": "python",
   "name": "python3"
  },
  "language_info": {
   "codemirror_mode": {
    "name": "ipython",
    "version": 3
   },
   "file_extension": ".py",
   "mimetype": "text/x-python",
   "name": "python",
   "nbconvert_exporter": "python",
   "pygments_lexer": "ipython3",
   "version": "3.9.16"
  },
  "orig_nbformat": 4
 },
 "nbformat": 4,
 "nbformat_minor": 2
}
