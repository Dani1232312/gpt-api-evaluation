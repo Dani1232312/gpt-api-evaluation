{
 "cells": [
  {
   "attachments": {},
   "cell_type": "markdown",
   "metadata": {},
   "source": [
    "# Imports"
   ]
  },
  {
   "cell_type": "code",
   "execution_count": null,
   "metadata": {},
   "outputs": [],
   "source": [
    "from datasets import load_dataset\n",
    "from datasets import Dataset\n",
    "from sklearn.model_selection import train_test_split\n",
    "import pandas as pd\n",
    "import openai\n",
    "\n",
    "# Loading the data\n",
    "data = pd.read_csv('data.csv')\n",
    "data_first_five = data.head(5)"
   ]
  },
  {
   "attachments": {},
   "cell_type": "markdown",
   "metadata": {},
   "source": [
    "# Query with GPT-API to retrive an answer."
   ]
  },
  {
   "cell_type": "code",
   "execution_count": null,
   "metadata": {},
   "outputs": [],
   "source": [
    "openai.api_key = ''\n",
    "\n",
    "\n",
    "def make_decision(abstract):\n",
    "    response = openai.ChatCompletion.create(\n",
    "        model=\"gpt-3.5-turbo\",\n",
    "        messages=[\n",
    "        {\n",
    "            \"role\": \"system\", \n",
    "            \"content\": (\n",
    "                \"Your purpose is to assist in \"\n",
    "                \"academic paper review. You should evaluate abstracts of papers based \"\n",
    "                \"on their relevance to the following topics: \\n\\n\"\n",
    "                \"1. Studies to measure Training Effectiveness/Training Performance (TE/TP)\\n\"\n",
    "                \"2. Studies to predict TE/TP\\n\"\n",
    "                \"3. Research exploring the impact of different variables on TE/TP\\n\"\n",
    "                \"4. Investigations into methods of improving TE/TP\\n\"\n",
    "                \"5. Proposals of new methodologies or theories about TE/TP\\n\"\n",
    "                \"6. Reviews about TE/TP\\n\\n\"\n",
    "                \"These topics are relevant in all contexts, including sports, education, \"\n",
    "                \"health, industry, army, etc. Your job is to read the abstract and then \"\n",
    "                \"respond with a number only: \\n\\n\"\n",
    "                \"0 - if the paper should be 'Included'\\n\"\n",
    "                \"1 - if the paper should be 'Rejected'\\n\"\n",
    "                \"2 - if you are 'Not Sure' about the paper\"\n",
    "            )\n",
    "        },\n",
    "        {\n",
    "            \"role\": \"user\", \n",
    "            \"content\": \"The abstract is: 'PROFESSIONAL SPORTS CONSTITUTE AN IMPORTANT PART OF PEOPLE’S MODERN LIFE. PEOPLE SPEND SUBSTANTIAL AMOUNTS OF TIME AND MONEY SUPPORTING THEIR FAVORITE PLAYERS AND TEAMS, AND SOMETIMES EVEN RIOT AFTER GAMES. HOWEVER, HOW TEAM PERFORMANCE AFFECTS FAN BEHAVIOR REMAINS UNDERSTUDIED AT A LARGE SCALE. AS ALMOST EVERY NOTABLE PROFESSIONAL TEAM HAS ITS OWN ONLINE FAN COMMUNITY, THESE COMMUNITIES PROVIDE GREAT OPPORTUNITIES FOR INVESTIGATING THIS RESEARCH QUESTION. IN THIS WORK, WE PROVIDE THE FIRST LARGE-SCALE CHARACTERIZATION OF ONLINE FAN COMMUNITIES OF PROFESSIONAL SPORTS TEAMS. SINCE USER BEHAVIOR IN THESE ONLINE FAN COMMUNITIES IS INHERENTLY CONNECTED TO GAME EVENTS AND TEAM PERFORMANCE, WE CONSTRUCT A UNIQUE DATASET THAT COMBINES 1.5M POSTS AND 43M COMMENTS IN NBA-RELATED COMMUNITIES ON REDDIT WITH STATISTICS THAT DOCUMENT TEAM PERFORMANCE IN THE NBA. WE ANALYZE THE IMPACT OF TEAM PERFORMANCE ON FAN BEHAVIOR BOTH AT THE GAME LEVEL AND THE SEASON LEVEL. FIRST, WE STUDY HOW TEAM PERFORMANCE IN A GAME RELATES TO USER ACTIVITY DURING THAT GAME. WE FIND THAT SURPRISE PLAYS AN IMPORTANT ROLE: THE FANS OF THE TOP TEAMS ARE MORE ACTIVE WHEN THEIR TEAMS LOSE AND SO ARE THE FANS OF THE BOTTOM TEAMS IN AN UNEXPECTED WIN. SECOND, WE STUDY FAN BEHAVIOR OVER CONSECUTIVE SEASONS AND SHOW THAT STRONG TEAM PERFORMANCE IS ASSOCIATED WITH FANS OF LOW LOYALTY, LIKELY DUE TO “BANDWAGON FANS.” FANS OF THE BOTTOM TEAMS TEND TO DISCUSS THEIR TEAM’S FUTURE SUCH AS YOUNG TALENTS IN THE ROSTER, WHICH MAY HELP THEM STAY OPTIMISTIC DURING ADVERSITY. OUR RESULTS NOT ONLY CONTRIBUTE TO UNDERSTANDING THE INTERPLAY BETWEEN ONLINE SPORTS COMMUNITIES AND OFFLINE CONTEXT BUT ALSO PROVIDE SIGNIFICANT INSIGHTS INTO SPORTS MANAGEMENT. © 2018 ASSOCIATION FOR COMPUTING MACHINERY.'\\nWhat should be the decision? Please respond with the appropriate number.\"\n",
    "        },\n",
    "        {\n",
    "            \"role\": \"assistant\",\n",
    "            \"content\": \"0\"\n",
    "        },\n",
    "        {\n",
    "            \"role\": \"user\", \n",
    "            \"content\": \"The abstract is: 'THE CONTINUOUS TECHNOLOGICAL DEVELOPMENT AND THE CONSISTENT RELIANCE ON ICT, HAS RAISED THE EXPECTATIONS TOWARDS UBIQUITOUS CONNECTIVITY TO AN EXTENT THAT TECHNICAL FAILURES OR SOCIAL DISCONNECTS ARE A SERIOUS THREAT FOR PROJECT TEAMS AND THEIR PERFORMANCE, ESPECIALLY WHEN TEAM MEMBERS ARE SCATTERED AROUND THE WORLD. WE ANALYSE HYPO-CONNECTIVITY, THE STATE IN WHICH USERS FACE TOO FEW CONNECTIVITY TO WORK EFFICIENTLY, AND FOCUS ON ITS IMPACT IN PROJECT TEAMS. BY APPLYING A MIXED METHOD APPROACH IN THE CONTEXT OF AN INTERNATIONAL CONSULTING COMPANY, WE INVESTIGATE THE TWO-SIDED PHENOMENON OF HYPO-CONNECTIVITY AND AIM TO IDENTIFY THE CONSEQUENCES OF HYPO-CONNECTIVITY ON COMMUNICATION EFFECTIVENESS AND EFFICIENCY, AS WELL AS THE ROLE OF CONNECTIVITY NORMS IN THIS RELATIONSHIP. OUR RESULTS SHOW THAT HYPO-CONNECTIVITY HAS A NEGATIVE INFLUENCE ON COMMUNICATION EFFECTIVENESS AND EFFICIENCY, WHICH CONSEQUENTLY LEADS TO DECREASED PERFORMANCE, INCREASED FRUSTRATION AND CONFLICTS. HOWEVER, THE ESTABLISHMENT OF CONNECTIVITY NORMS IN PROJECT TEAMS CAN EASE THE EFFECTS OF HYPO-CONNECTIVITY, SUSTAIN THE COMMUNICATION FLOW AND BALANCE THE NEGATIVE IMPACT. WE CONCLUDE THAT PEOPLE ACTUALLY “NEED TO TALK” ABOUT THE DOS AND DON’TS THAT SUSTAIN THEIR COMMUNICATION FLOW AND DEVELOP CONNECTIVITY NORMS THAT COULD HELP THE TEAM CIRCUMVENT THE NEGATIVE EFFECTS OF HYPO-CONNECTIVITY. © 2017 PROCEEDINGS OF THE 25TH EUROPEAN CONFERENCE ON INFORMATION SYSTEMS, ECIS 2017. ALL RIGHTS RESERVED.'\\nWhat should be the decision? Please respond with the appropriate number.\"\n",
    "        },\n",
    "        {\n",
    "            \"role\": \"assistant\",\n",
    "            \"content\": \"0\"\n",
    "        },\n",
    "        {\n",
    "            \"role\": \"user\", \n",
    "            \"content\": f\"The abstract is: {abstract}\\nWhat should be the decision? Please respond with the appropriate number.\"\n",
    "        }\n",
    "    ],\n",
    "        max_tokens=60\n",
    "    )\n",
    "\n",
    "    return response['choices'][0]['message']['content'].strip()\n",
    "\n",
    "\n",
    "# Apply the function to the first 5 rows\n",
    "data_first_five['Decision_Predicted'] = data_first_five['Abstract'].apply(make_decision)\n",
    "\n",
    "# Now, 'data_first_five' contains the first 5 rows of the dataset with predictions.\n",
    "data_first_five"
   ]
  }
 ],
 "metadata": {
  "language_info": {
   "name": "python"
  },
  "orig_nbformat": 4
 },
 "nbformat": 4,
 "nbformat_minor": 2
}
